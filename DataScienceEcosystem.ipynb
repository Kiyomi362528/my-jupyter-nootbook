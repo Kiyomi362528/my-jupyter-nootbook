{
 "cells": [
  {
   "cell_type": "markdown",
   "id": "91f81a67-aca8-470b-a523-d95316dadead",
   "metadata": {},
   "source": [
    "# Data Science Tools and Ecosystem"
   ]
  },
  {
   "cell_type": "markdown",
   "id": "b2dacc6f-aaf9-4ead-ab63-bb6062749456",
   "metadata": {},
   "source": [
    "## In this notebook, Data Science Tools and Ecosystem are summarized."
   ]
  },
  {
   "cell_type": "markdown",
   "id": "d09aff6a-75d5-47af-bb9e-33b84dcf1494",
   "metadata": {},
   "source": [
    "Some of the popular languages that Data Scientists use are:\n",
    "1. Python\n",
    "2. R\n",
    "3. Julia"
   ]
  },
  {
   "cell_type": "markdown",
   "id": "f8d0fbc1-094f-4a89-a656-af2eb1fa8a01",
   "metadata": {},
   "source": [
    "Some of the commonly used libraries used by Data Scientists include:\n",
    "1. NumPy\n",
    "2. pandas\n",
    "3. Matplotlib\n"
   ]
  },
  {
   "cell_type": "markdown",
   "id": "f838d8c3-23c1-4f57-9749-e9df6f8b4974",
   "metadata": {},
   "source": [
    "| Data Science Tools    |\n",
    "| ---------------------- |\n",
    "| Jupyter Notebook      |\n",
    "| RStudio               |\n",
    "| VSCode with extensions |\n"
   ]
  },
  {
   "cell_type": "markdown",
   "id": "1ecc5831-4afc-475b-832e-6c721f45ae41",
   "metadata": {},
   "source": [
    "<u>Below are a few examples of evaluating arithmetic expressions in Python</u>"
   ]
  },
  {
   "cell_type": "code",
   "execution_count": 3,
   "id": "21e0e67c-3f02-474f-9122-cbec29e84a90",
   "metadata": {},
   "outputs": [
    {
     "data": {
      "text/plain": [
       "17"
      ]
     },
     "execution_count": 3,
     "metadata": {},
     "output_type": "execute_result"
    }
   ],
   "source": [
    "#This a simple arithmetic expression to mutiply then add integers\n",
    "(3*4)+5"
   ]
  },
  {
   "cell_type": "code",
   "execution_count": 4,
   "id": "effba932-0ed8-40c5-a10b-f36b52c0fae2",
   "metadata": {},
   "outputs": [
    {
     "data": {
      "text/plain": [
       "3.3333333333333335"
      ]
     },
     "execution_count": 4,
     "metadata": {},
     "output_type": "execute_result"
    }
   ],
   "source": [
    "# This will convert 200 minutes to hours by diving by 60\n",
    "200 / 60"
   ]
  },
  {
   "cell_type": "markdown",
   "id": "55ed3f15-e687-4a85-a35c-710599bb58ed",
   "metadata": {},
   "source": [
    "**Objectives:**\n",
    "- List popular languages for Data Science.\n",
    "- Introduce common libraries used by Data Scientists.\n",
    "- Provide examples of evaluating arithmetic expressions in Python.\n",
    "- Share key takeaways from the course."
   ]
  },
  {
   "cell_type": "markdown",
   "id": "d1f35601-5587-4c7f-b3ef-582136d43d38",
   "metadata": {},
   "source": [
    "## Author\n",
    "<span style=\"color:blue;\">Ding Jie</span>"
   ]
  },
  {
   "cell_type": "code",
   "execution_count": null,
   "id": "4619523b-c61b-42bd-8d24-06fb4e2ad2ad",
   "metadata": {},
   "outputs": [],
   "source": []
  }
 ],
 "metadata": {
  "kernelspec": {
   "display_name": "Python 3 (ipykernel)",
   "language": "python",
   "name": "python3"
  },
  "language_info": {
   "codemirror_mode": {
    "name": "ipython",
    "version": 3
   },
   "file_extension": ".py",
   "mimetype": "text/x-python",
   "name": "python",
   "nbconvert_exporter": "python",
   "pygments_lexer": "ipython3",
   "version": "3.12.0"
  }
 },
 "nbformat": 4,
 "nbformat_minor": 5
}
